{
 "cells": [
  {
   "cell_type": "code",
   "execution_count": 52,
   "metadata": {
    "ExecuteTime": {
     "end_time": "2021-07-14T09:43:54.404719Z",
     "start_time": "2021-07-14T09:43:54.361869Z"
    }
   },
   "outputs": [],
   "source": [
    "from collections import defaultdict\n",
    "from tqdm import tqdm\n",
    "\n",
    "import pickle\n",
    "import pandas as pd\n",
    "\n",
    "import requests"
   ]
  },
  {
   "cell_type": "code",
   "execution_count": 28,
   "metadata": {
    "ExecuteTime": {
     "end_time": "2021-07-14T09:08:28.878988Z",
     "start_time": "2021-07-14T09:08:28.843727Z"
    }
   },
   "outputs": [],
   "source": [
    "dis = pickle.load(open('dis.pkl', 'rb'))"
   ]
  },
  {
   "cell_type": "code",
   "execution_count": 29,
   "metadata": {
    "ExecuteTime": {
     "end_time": "2021-07-14T09:08:29.361102Z",
     "start_time": "2021-07-14T09:08:29.344099Z"
    }
   },
   "outputs": [
    {
     "name": "stdout",
     "output_type": "stream",
     "text": [
      "34451\n"
     ]
    },
    {
     "data": {
      "text/plain": [
       "['3 Doors Down/1997 - 3 Doors Down (Demo Album)/01. Kryptonite.mp3',\n",
       " 'Anthrax/1993 - Sound Of White Noise (320)/07 - 1000 Points Of Hate.mp3',\n",
       " 'Bruce Springsteen/Live In Dublin/1-09 My Oklahoma Home.mp3',\n",
       " 'Buckethead/2014 - Pike 084 - Whirlpool/08 - OO.mp3',\n",
       " 'Cradle Of Filth/Thornography/04 Libertina Grimm.mp3',\n",
       " 'Epica/2007 - The Divine Conspiracy/01 - Indigo (Prologue).mp3',\n",
       " 'Frank Sinatra/1994 - The Song Is You/Cover/16.jpg',\n",
       " 'Gary Moore/1989 - After the War (remaster 2003)/13. Over the Hills and Far Away (Live).mp3',\n",
       " 'Hinder/2008 - Take It To The Limit/Hinder - 02 - Loaded And Alone.mp3',\n",
       " 'Kamelot/2005 - The Black Halo (Limited Edition)/06. Abandoned.mp3',\n",
       " \"Linkin Park/Road To Revolution Live At Milton Keynes/What I've Done.mp3\",\n",
       " \"Mogwai/2001 - Rock Action (Japanese Edition)/05 - You Don't Know Jesus.mp3\",\n",
       " 'Paradise Lost/Paradise Lost - (2009) Faith Divides Us - Death Unites Us (Special Editon)/09  Universal Dream.mp3',\n",
       " 'Queen/(1976) A Day at the Races/10 Queen - Teo Torriatte (Let Us Cling Together).mp3',\n",
       " 'Santana/Santana-Abraxas-1970/02 - Black magic woman_Gypsy queen.mp3',\n",
       " 'Skillet/Collide [Bonus Track]/08 Imperfection.mp3',\n",
       " 'The Beatles/The Beatles - 1994 - Live At The BBC/Covers/Inside.jpg',\n",
       " 'Within Temptation/2011 - The Unforgiving (Digipack Slipcase Limited Edition) - (320 kbps)/08. Sinead.mp3']"
      ]
     },
     "execution_count": 29,
     "metadata": {},
     "output_type": "execute_result"
    }
   ],
   "source": [
    "print(len(dis))\n",
    "dis[::2000]"
   ]
  },
  {
   "cell_type": "code",
   "execution_count": 30,
   "metadata": {
    "ExecuteTime": {
     "end_time": "2021-07-14T09:08:30.563648Z",
     "start_time": "2021-07-14T09:08:30.554646Z"
    }
   },
   "outputs": [],
   "source": [
    "EXTS = {'mp3', 'flac', 'm3u', 'm4a', 'wma'}"
   ]
  },
  {
   "cell_type": "code",
   "execution_count": 31,
   "metadata": {
    "ExecuteTime": {
     "end_time": "2021-07-14T09:08:31.438442Z",
     "start_time": "2021-07-14T09:08:31.401438Z"
    },
    "scrolled": true
   },
   "outputs": [
    {
     "data": {
      "text/plain": [
       "'accurip, avi, bak, bmp, cue, db, flac, flv, gif, html, ini, jpeg, jpg, jpg_170x128, jpg_320x320, jpg_56x42, log, m3u, m4a, mkv, mmp3, mp3, mp4, mpg, nfo, pdf, pkl, png, rar, rtf, sfk, sfv, tif, txt, wma, wpl, zip'"
      ]
     },
     "execution_count": 31,
     "metadata": {},
     "output_type": "execute_result"
    }
   ],
   "source": [
    "exts = sorted({n.split('.')[-1].lower() for n in dis})\n",
    "', '.join(exts)"
   ]
  },
  {
   "cell_type": "code",
   "execution_count": 32,
   "metadata": {
    "ExecuteTime": {
     "end_time": "2021-07-14T09:08:32.687840Z",
     "start_time": "2021-07-14T09:08:32.647877Z"
    }
   },
   "outputs": [],
   "source": [
    "music = list(filter(lambda n: n.split('.')[-1].lower() in EXTS, dis))"
   ]
  },
  {
   "cell_type": "code",
   "execution_count": 33,
   "metadata": {
    "ExecuteTime": {
     "end_time": "2021-07-14T09:08:33.583655Z",
     "start_time": "2021-07-14T09:08:33.571656Z"
    }
   },
   "outputs": [
    {
     "data": {
      "text/plain": [
       "27803"
      ]
     },
     "execution_count": 33,
     "metadata": {},
     "output_type": "execute_result"
    }
   ],
   "source": [
    "len(music)"
   ]
  },
  {
   "cell_type": "code",
   "execution_count": 34,
   "metadata": {
    "ExecuteTime": {
     "end_time": "2021-07-14T09:08:34.761090Z",
     "start_time": "2021-07-14T09:08:34.736089Z"
    }
   },
   "outputs": [
    {
     "data": {
      "text/plain": [
       "{3, 4}"
      ]
     },
     "execution_count": 34,
     "metadata": {},
     "output_type": "execute_result"
    }
   ],
   "source": [
    "{len(m.split('/')) for m in music}"
   ]
  },
  {
   "cell_type": "code",
   "execution_count": 35,
   "metadata": {
    "ExecuteTime": {
     "end_time": "2021-07-14T09:08:36.421986Z",
     "start_time": "2021-07-14T09:08:36.341161Z"
    }
   },
   "outputs": [],
   "source": [
    "all_music = defaultdict(dict)\n",
    "\n",
    "for p in [m for m in music if len(m.split('/')) in (3, 4)]:\n",
    "    band, album, *_, song = p.split('/')\n",
    "    \n",
    "    all_music[band].setdefault(album, [])\n",
    "    all_music[band][album].append(song)"
   ]
  },
  {
   "cell_type": "code",
   "execution_count": 36,
   "metadata": {
    "ExecuteTime": {
     "end_time": "2021-07-14T09:08:37.059411Z",
     "start_time": "2021-07-14T09:08:37.053410Z"
    }
   },
   "outputs": [
    {
     "data": {
      "text/plain": [
       "134"
      ]
     },
     "execution_count": 36,
     "metadata": {},
     "output_type": "execute_result"
    }
   ],
   "source": [
    "len(all_music)"
   ]
  },
  {
   "cell_type": "code",
   "execution_count": 37,
   "metadata": {
    "ExecuteTime": {
     "end_time": "2021-07-14T09:08:39.658732Z",
     "start_time": "2021-07-14T09:08:39.646727Z"
    }
   },
   "outputs": [
    {
     "data": {
      "text/plain": [
       "dict_keys(['3 Doors Down', '30 Seconds To Mars', 'AC DC', 'Adele', 'Aerosmith', 'Alan Jackson', 'Alesana', 'Alter Bridge', 'Andy McKee', 'Angel Vivaldi', 'Animals as Leaders', 'Anthrax', 'Apocalyptica', 'Arch Enemy', 'Avenged Sevenfold', 'Bach - Complete Violin Sonatas - Arthur Grumiaux, Christiane Jaccottet, Philippe Mermoud', 'Black Sabbath', 'Bob Marley', 'Breaking Benjamin', 'Bruce Springsteen', 'Bryan Adams', 'Buckethead', 'Bullet For My Valentine', 'Children Of Bodom', 'Coldplay', 'Cradle Of Filth', 'Creed', 'Crossfade', 'Daughtry', 'Dead by April', 'Def Leppard', 'Dimmu Borgir', 'Disturbed', 'Dragonforce', 'Dream Theater', 'Eluveitie', 'Epica', 'Eric Clapton', 'Eternal Tears Of Sorrow', 'Eva Cassidy', 'Evanescence', 'Forever Slave', 'Frank Sinatra', 'Gary Moore', 'Green Day', 'Grey Heaven Fall', \"Guns N' Roses\", 'HIM', 'Hinder', 'Hollywood Undead', 'Insomnium', 'Iron Maiden', 'Jimi Hendrix', 'Joe Satriani', 'John Mayer', 'Kamelot', 'Kansas', 'Lacuna Coil', 'Lamb of God', 'Led Zeppelin', 'Leonard Cohen', 'Linkin Park', 'Lionel Richie', 'Lunatica', 'Marilyn Manson', 'Megadeath', 'Metallica', 'Michael Angelo Batio', 'Michael Jackson', 'Mogwai', 'Murderdolls', 'Muse', 'My Chemical Romance', 'Nemesea', 'Nickelback', 'Nightwish', 'Nirvana', 'Nitro (USA; Glam Metal)', 'Norah Jones', 'Noturna', 'Opeth', 'Ozzy Osbourne', 'Pantera', 'Paradise Lost', 'Periphery', 'Pink Floyd', 'Poets Of The Fall', 'Porcupine Tree', 'Psyclon Nine', 'Queen', 'Red', 'Red Hot Chili Peppers', 'Brain Drill', 'Dreamshade', 'Kalmah', 'Neil Young 1968-2007', 'Rise Against', 'Summoning', 'Riverside', 'Santana', 'Scorpions', 'Seether', 'Sigur Ros', 'Simon And Garfunkel', 'Simple Plan', 'Sirenia', 'Skillet', 'Slash ft. Myles Kenedy and the Conspirators', 'Slayer', 'Slechtvalk', 'Sleep Dealer', 'Slipknot', 'Steve Vai', 'Steven Wilson', 'Stone Sour', 'Suicide Silence', 'SunlessRise', 'Swallow The Sun', 'Symphony X', 'Tenth Avenue North', 'The Beatles', 'The Eagles', 'The Rasmus', 'The Red Jumpsuit Aparatus', 'The Rolling Stones', 'The Script', 'The White Stripes', 'Thousand Foot Krutch', 'Tool', 'Velvet Revolver', 'Wintersun', 'Within Temptation', 'Wolfgang Amadeus Mozart', 'Yiruma'])"
      ]
     },
     "execution_count": 37,
     "metadata": {},
     "output_type": "execute_result"
    }
   ],
   "source": [
    "all_music.keys()"
   ]
  },
  {
   "cell_type": "code",
   "execution_count": 38,
   "metadata": {
    "ExecuteTime": {
     "end_time": "2021-07-14T09:08:45.753710Z",
     "start_time": "2021-07-14T09:08:45.741712Z"
    }
   },
   "outputs": [
    {
     "data": {
      "text/plain": [
       "{'1997 - 3 Doors Down (Demo Album)': ['01. Kryptonite.mp3',\n",
       "  '02. Loser.mp3',\n",
       "  '03. Life On My Own.mp3',\n",
       "  '04. Smack.mp3',\n",
       "  '05. Down Poison.mp3',\n",
       "  '06. Dead Love.mp3',\n",
       "  '07. Wasted Me.mp3',\n",
       "  '08. Man In My Mind.mp3',\n",
       "  '09. By My Side.mp3',\n",
       "  \"10. Sarah Yellin' 86.mp3\"],\n",
       " '2000 - The Better Life (Best Buy Bonus Tracks Version)': ['01. Kryptonite.mp3',\n",
       "  '02. Loser.mp3',\n",
       "  '03. Duck And Run.mp3',\n",
       "  '04. Not Enough.mp3',\n",
       "  '05. Be Like That.mp3',\n",
       "  '06. Life Of My Own.mp3',\n",
       "  '07. Better Life.mp3',\n",
       "  '08. Down Poison.mp3',\n",
       "  '09. By My Side.mp3',\n",
       "  '10. Smack.mp3',\n",
       "  '11. So I Need You.mp3',\n",
       "  '12. Loser (Live).mp3',\n",
       "  '13. Life Of My Own (Live).mp3',\n",
       "  '14. Kryptonite (Live).mp3'],\n",
       " '2002 - Away From The Sun (Special Edition)': [\"01. When I'm Gone.mp3\",\n",
       "  '02. Away From The Sun.mp3',\n",
       "  \"03. The Road I'm On.mp3\",\n",
       "  '04. Ticket To Heaven.mp3',\n",
       "  '05. Running Out Of Days.mp3',\n",
       "  '06. Here Without You.mp3',\n",
       "  '07. I Feel You.mp3',\n",
       "  '08. Dangerous Game.mp3',\n",
       "  '09. Changes.mp3',\n",
       "  '10. Going Down In Flames.mp3',\n",
       "  '11. Sarah Yellin.mp3',\n",
       "  '12. Popsong (Bonus).mp3',\n",
       "  '13. Kryptonite (Bonus).mp3',\n",
       "  '14. This Time (Bonus).mp3'],\n",
       " '2003 - Another 700 Miles (Live)': ['01. Duck And Run.mp3',\n",
       "  \"02. When I'm Gone (Intro).mp3\",\n",
       "  \"03. When I'm Gone.mp3\",\n",
       "  '04. Kryptonite.mp3',\n",
       "  '05. Here Without You.mp3',\n",
       "  \"06. It's Not Me.mp3\",\n",
       "  '07. That Smell.mp3'],\n",
       " '2005 - Acoustic (EP)': ['01. Let Me Go.mp3',\n",
       "  '02. Landing in London.mp3',\n",
       "  '03. Here Without You.mp3',\n",
       "  '04. Be Somebody.mp3',\n",
       "  '05. My World.mp3'],\n",
       " '2005 - Ballads': ['01. Here Without You (Acoustic).mp3',\n",
       "  '02. Be Like That.mp3',\n",
       "  '03. Behind Those Eyes.mp3',\n",
       "  '04. Be Somebody.mp3',\n",
       "  '05. Life Of My Own.mp3',\n",
       "  '06. -Down Poison.mp3',\n",
       "  '07. Away From The Sun (Acoustic).mp3',\n",
       "  '08. Here By Me.mp3',\n",
       "  \"09. It's Not Me.mp3\",\n",
       "  '10. Landing In London.mp3',\n",
       "  \"11. When I'm Gone.mp3\",\n",
       "  '12. The Real Life.mp3',\n",
       "  '13. Changes.mp3',\n",
       "  '14. I Feel You.mp3',\n",
       "  '15. Let Me Go.mp3',\n",
       "  '16. Running Out Of Days.mp3',\n",
       "  \"17. Father's Son.mp3\",\n",
       "  '18. Ticket To Heaven.mp3',\n",
       "  '19. My World.mp3',\n",
       "  \"20. The Road I'm On.mp3\"],\n",
       " '2005 - Seventeen Days (Special Edition)': ['01. Right Where I Belong.mp3',\n",
       "  \"02. It's Not Me.mp3\",\n",
       "  '03. Let Me Go.mp3',\n",
       "  '04. Be Somebody.mp3',\n",
       "  '05. Landing in London (feat. Bob Seger).mp3',\n",
       "  '06. The Real Life.mp3',\n",
       "  '07. Behind Those Eyes.mp3',\n",
       "  '08. Never Will I Break.mp3',\n",
       "  \"09. Father's Son.mp3\",\n",
       "  '10. Live for Today.mp3',\n",
       "  '11. My World.mp3',\n",
       "  '12. Here By Me.mp3',\n",
       "  '13. Let Me Go (Acoustic).mp3',\n",
       "  '14. Be Somebody (Acoustic).mp3',\n",
       "  '15. Landing in London (Acoustic).mp3',\n",
       "  '16. My World (Acoustic).mp3'],\n",
       " '2008 - 3 Doors Down (Best Buy Exclusive Edition)': ['01. Train.mp3',\n",
       "  '02. CitizenSoldier.mp3',\n",
       "  \"03. It's Not My Time.mp3\",\n",
       "  '04. Let Me be Myself.mp3',\n",
       "  '05. Pages.mp3',\n",
       "  \"06. It's the Only One You've Got.mp3\",\n",
       "  '07. Give it to Me.mp3',\n",
       "  '08. These Days.mp3',\n",
       "  '09. Your Arms Feel Like Home.mp3',\n",
       "  '10. Runaway.mp3',\n",
       "  \"11. When it's Over.mp3\",\n",
       "  \"12. She Don't Want the World.mp3\",\n",
       "  '13. Feet in the Water.mp3',\n",
       "  '14. Who Are You.mp3'],\n",
       " '2009 - Where My Christmas Lives (EP)': ['01. Where My Christmas Lives.mp3',\n",
       "  \"02. It's Not My Time (Acoustic Version).mp3\",\n",
       "  \"03. It's The Only One You've Got (Acoustic Version).mp3\",\n",
       "  '04. Your Arms Feel Like Home (Acoustic Version).mp3',\n",
       "  '05. Let Me Be Myself (Acoustic Version).mp3',\n",
       "  '06. Pages (Acoustic Version).mp3',\n",
       "  '07. Runaway (Acoustic Version).mp3',\n",
       "  '08. Where My Christmas Lives (Acoustic Version).mp3'],\n",
       " '2011 - Time Of My Life (Deluxe Edition)': ['01. Time Of My Life.mp3',\n",
       "  \"02. When You're Young.mp3\",\n",
       "  '03. Round And Round.mp3',\n",
       "  '04. Heaven.mp3',\n",
       "  '05. Race For The Sun.mp3',\n",
       "  '06. Back To Me.mp3',\n",
       "  '07. Every Time You Go.mp3',\n",
       "  \"08. What's Left.mp3\",\n",
       "  '09. On The Run.mp3',\n",
       "  '10. She Is Love.mp3',\n",
       "  '11. My Way.mp3',\n",
       "  '12. Believer.mp3',\n",
       "  \"13. When You're Young (Acoustic).mp3\",\n",
       "  '14. Every Time You Go (Acoustic).mp3',\n",
       "  '15. The Silence Remains.mp3',\n",
       "  '16. Train (Demo).mp3'],\n",
       " '2012 - The Greatest Hits': ['01. Kryptonite [Remaster].mp3',\n",
       "  \"02. When I'm Gone [Remaster].mp3\",\n",
       "  \"03. It's Not My Time [Remaster].mp3\",\n",
       "  '04. Here Without You [Remaster].mp3',\n",
       "  '05. Let Me Go [Remaster].mp3',\n",
       "  '06. Be Like That [Remaster].mp3',\n",
       "  '07. Loser [Remaster].mp3',\n",
       "  '08. Away From The Sun [Remaster].mp3',\n",
       "  '09. Duck And Run [Remaster].mp3',\n",
       "  '10. One Light.mp3',\n",
       "  \"11. There's A Life.mp3\",\n",
       "  '12. Goodbyes.mp3']}"
      ]
     },
     "execution_count": 38,
     "metadata": {},
     "output_type": "execute_result"
    }
   ],
   "source": [
    "all_music['3 Doors Down']"
   ]
  },
  {
   "cell_type": "code",
   "execution_count": 65,
   "metadata": {
    "ExecuteTime": {
     "end_time": "2021-07-14T11:14:07.997037Z",
     "start_time": "2021-07-14T11:14:07.991037Z"
    }
   },
   "outputs": [],
   "source": [
    "API_BASE = 'http://127.0.0.1:8000'\n",
    "ADD_BAND_URL = f'{API_BASE}/music/bands'\n",
    "ADD_ALBUM_URL = f'{API_BASE}/music/albums'"
   ]
  },
  {
   "cell_type": "code",
   "execution_count": 66,
   "metadata": {
    "ExecuteTime": {
     "end_time": "2021-07-14T11:18:44.281742Z",
     "start_time": "2021-07-14T11:14:10.448813Z"
    }
   },
   "outputs": [
    {
     "name": "stderr",
     "output_type": "stream",
     "text": [
      "100%|██████████| 134/134 [04:33<00:00,  2.04s/it]\n"
     ]
    }
   ],
   "source": [
    "for band, albums in tqdm(all_music.items()):\n",
    "    res = requests.post(ADD_BAND_URL, data={'band': band}).json()\n",
    "    band_id = res['band_id']\n",
    "    for album, songs in albums.items():\n",
    "        res = requests.post(ADD_ALBUM_URL, json={\n",
    "            'album': album, \n",
    "            'band_id': band_id,\n",
    "            'songs': songs,\n",
    "        }).json()"
   ]
  },
  {
   "cell_type": "code",
   "execution_count": null,
   "metadata": {},
   "outputs": [],
   "source": []
  }
 ],
 "metadata": {
  "kernelspec": {
   "display_name": "Python 3",
   "language": "python",
   "name": "python3"
  },
  "language_info": {
   "codemirror_mode": {
    "name": "ipython",
    "version": 3
   },
   "file_extension": ".py",
   "mimetype": "text/x-python",
   "name": "python",
   "nbconvert_exporter": "python",
   "pygments_lexer": "ipython3",
   "version": "3.8.5"
  },
  "varInspector": {
   "cols": {
    "lenName": 16,
    "lenType": 16,
    "lenVar": 40
   },
   "kernels_config": {
    "python": {
     "delete_cmd_postfix": "",
     "delete_cmd_prefix": "del ",
     "library": "var_list.py",
     "varRefreshCmd": "print(var_dic_list())"
    },
    "r": {
     "delete_cmd_postfix": ") ",
     "delete_cmd_prefix": "rm(",
     "library": "var_list.r",
     "varRefreshCmd": "cat(var_dic_list()) "
    }
   },
   "types_to_exclude": [
    "module",
    "function",
    "builtin_function_or_method",
    "instance",
    "_Feature"
   ],
   "window_display": false
  }
 },
 "nbformat": 4,
 "nbformat_minor": 1
}
